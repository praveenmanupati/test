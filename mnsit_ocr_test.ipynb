{
  "nbformat": 4,
  "nbformat_minor": 0,
  "metadata": {
    "colab": {
      "name": "mnsit_ocr_test",
      "provenance": [],
      "collapsed_sections": [],
      "include_colab_link": true
    },
    "kernelspec": {
      "name": "python3",
      "display_name": "Python 3"
    }
  },
  "cells": [
    {
      "cell_type": "markdown",
      "metadata": {
        "id": "view-in-github",
        "colab_type": "text"
      },
      "source": [
        "<a href=\"https://colab.research.google.com/github/praveenmanupati/test/blob/master/mnsit_ocr_test.ipynb\" target=\"_parent\"><img src=\"https://colab.research.google.com/assets/colab-badge.svg\" alt=\"Open In Colab\"/></a>"
      ]
    },
    {
      "cell_type": "code",
      "metadata": {
        "id": "J5VweCSP7OVU",
        "colab_type": "code",
        "colab": {}
      },
      "source": [
        "from keras.models import load_model, model_from_json\n",
        "import matplotlib.pyplot as plt\n",
        "import matplotlib.image as utils\n",
        "from PIL import Image\n",
        "import numpy as np\n",
        "from skimage.transform import resize"
      ],
      "execution_count": 0,
      "outputs": []
    },
    {
      "cell_type": "code",
      "metadata": {
        "id": "D5vrDVKd_W8Q",
        "colab_type": "code",
        "colab": {}
      },
      "source": [
        "def preprocess_image(x):\n",
        "    # Resize the image to have the shape of (96,96)\n",
        "    x = resize(x, (target_size, target_size),\n",
        "            mode='constant',\n",
        "            anti_aliasing=False)\n",
        "    \n",
        "    # convert to 3 channel (RGB)\n",
        "    x = np.stack((x,)*3, axis=-1) \n",
        "    #print(x.shape)\n",
        "    return x.astype(np.float32)"
      ],
      "execution_count": 0,
      "outputs": []
    },
    {
      "cell_type": "code",
      "metadata": {
        "id": "uVBx9n9MACog",
        "colab_type": "code",
        "colab": {}
      },
      "source": [
        "def show_images(images):\n",
        "    \"\"\"\n",
        "    images : numpy arrays\n",
        "    \"\"\"\n",
        "    n_images = len(images)\n",
        "    for i in range(len(images)):\n",
        "        images[i] = np.flip(images[i],1)\n",
        "        images[i] = np.rot90(images[i])\n",
        "        \n",
        "        \n",
        "    titles = ['(%d)' % i for i in range(1, n_images + 1)]\n",
        "    num = 5\n",
        "    iter_num = np.ceil(n_images / num).astype(int)\n",
        "    for i in range(iter_num):\n",
        "        fig = plt.figure()\n",
        "        sub_images = images[i * num:num * (i + 1)]\n",
        "        sub_titles = titles[i * num:num * (i + 1)]\n",
        "        for n, (image, title) in enumerate(zip(sub_images, sub_titles)):\n",
        "            a = fig.add_subplot(1, np.ceil(len(sub_images)), n + 1)\n",
        "            if image.ndim == 2:\n",
        "                plt.gray()\n",
        "            a.set_title(title, fontsize=15)\n",
        "            plt.imshow(image)"
      ],
      "execution_count": 0,
      "outputs": []
    },
    {
      "cell_type": "code",
      "metadata": {
        "id": "5se3O0k_-fPv",
        "colab_type": "code",
        "colab": {
          "base_uri": "https://localhost:8080/",
          "height": 34
        },
        "outputId": "5ba08f65-9689-4082-871d-f188641256ee"
      },
      "source": [
        "# load json and create model\n",
        "json_file = open('model.json', 'r')\n",
        "loaded_model_json = json_file.read()\n",
        "json_file.close()\n",
        "model = model_from_json(loaded_model_json)\n",
        "# load weights into new model\n",
        "model.load_weights(\"model.h5\")\n",
        "print(\"Loaded model from disk\")\n",
        "# model.summary()"
      ],
      "execution_count": 61,
      "outputs": [
        {
          "output_type": "stream",
          "text": [
            "Loaded model from disk\n"
          ],
          "name": "stdout"
        }
      ]
    },
    {
      "cell_type": "code",
      "metadata": {
        "id": "4MSs45p1_tTo",
        "colab_type": "code",
        "colab": {
          "base_uri": "https://localhost:8080/",
          "height": 34
        },
        "outputId": "6c23e477-f433-47c5-bd34-7b7fdd9d5021"
      },
      "source": [
        "characters = ['0','1','2','3','4','5','6','7','8','9','A','B','C','D','E','F','G','H','I','J','K','L','M','N','O','P','Q','R','S','T','U','V','W','X','Y','Z','a','b','d','e','f','g','h','n','q','r','t']\n",
        "print(len(characters))"
      ],
      "execution_count": 62,
      "outputs": [
        {
          "output_type": "stream",
          "text": [
            "47\n"
          ],
          "name": "stdout"
        }
      ]
    },
    {
      "cell_type": "code",
      "metadata": {
        "id": "agM7uw5YA_Pr",
        "colab_type": "code",
        "colab": {
          "base_uri": "https://localhost:8080/",
          "height": 521
        },
        "outputId": "1541fc23-8018-4e06-f6ad-7aba86e2dd00"
      },
      "source": [
        "target_size = 96\n",
        "# x = utils.imread('a_lower.png')\n",
        "x = Image.open('/content/images/a_lower1.png').convert(\"L\")\n",
        "x = np.invert(x)\n",
        "x = np.flip(x,1)\n",
        "x = np.rot90(x)\n",
        "x = preprocess_image(x)\n",
        "show_images([x])\n",
        "print(x.shape)\n",
        "\n",
        "# x = x.reshape(1,x.shape[0],x.shape[1],x.shape[2])\n",
        "# print(x.shape)\n",
        "\n",
        "out = model.predict(x)\n",
        "print(out)\n",
        "p = np.argmax(out,axis=1)\n",
        "print(p)\n",
        "print(characters[p[0]-1])"
      ],
      "execution_count": 72,
      "outputs": [
        {
          "output_type": "stream",
          "text": [
            "(96, 96, 3)\n",
            "(1, 96, 96, 3)\n",
            "[[1.9573042e-02 2.0043193e-05 1.2512572e-04 8.8652023e-06 1.3065435e-05\n",
            "  3.5660505e-06 5.7611185e-05 1.6055050e-06 6.1550672e-05 1.8804209e-04\n",
            "  7.6756330e-04 1.9041033e-03 5.8772095e-04 1.3897762e-04 2.3596886e-05\n",
            "  9.3682851e-05 2.5693656e-04 6.0261555e-06 2.4220739e-05 9.8956730e-07\n",
            "  6.4162100e-06 2.7493083e-05 2.5020110e-05 6.9464095e-06 1.5945781e-03\n",
            "  2.0675518e-04 9.7057468e-01 8.5144263e-04 2.8027796e-05 6.4727528e-06\n",
            "  4.2974945e-05 1.5788559e-06 2.3982797e-05 2.0781921e-05 7.2565745e-06\n",
            "  5.9474519e-06 1.8791786e-03 2.8512208e-05 1.9217872e-04 8.4669235e-05\n",
            "  2.2453862e-05 2.8110966e-05 1.0157086e-05 1.3815058e-05 4.0501222e-04\n",
            "  2.5212377e-05 2.3933260e-05]]\n",
            "[26]\n",
            "P\n"
          ],
          "name": "stdout"
        },
        {
          "output_type": "display_data",
          "data": {
            "image/png": "[encoded data removed]",
            "text/plain": [
              "<Figure size 432x288 with 1 Axes>"
            ]
          },
          "metadata": {
            "tags": []
          }
        }
      ]
    },
    {
      "cell_type": "code",
      "metadata": {
        "id": "SuF9MeNcB8kr",
        "colab_type": "code",
        "colab": {}
      },
      "source": [
        ""
      ],
      "execution_count": 0,
      "outputs": []
    }
  ]
}